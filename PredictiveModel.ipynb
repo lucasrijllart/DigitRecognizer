{
 "cells": [
  {
   "cell_type": "markdown",
   "metadata": {},
   "source": [
    "# Digit Recogniser\n",
    "\n",
    "The given task:\n",
    "\"In this competition, your goal is to correctly identify digits from a dataset of tens of thousands of handwritten images. We’ve curated a set of tutorial-style kernels which cover everything from regression to neural networks. We encourage you to experiment with different algorithms to learn first-hand what works well and how techniques compare.\"\n",
    "\n",
    "The data:\n",
    "\n",
    "    Training:\n",
    "    42,000 images of digits\n",
    "    Column 0: Number depicted by image\n",
    "    Column 1-784: Pixel intensity (0 black, 255 white)\n",
    "    \n",
    "    Example:\n",
    "|label | pixel 0 | pixel 1 | pixel 2 | ... | pixel 783|\n",
    "|------|---------|---------|---------|-----|----------|\n",
    "|3     | 0       | 16      | 94      | ... | 43       |\n",
    "    "
   ]
  },
  {
   "cell_type": "code",
   "execution_count": 1,
   "metadata": {
    "collapsed": false
   },
   "outputs": [
    {
     "name": "stdout",
     "output_type": "stream",
     "text": [
      "Successfully imported modules\n"
     ]
    }
   ],
   "source": [
    "# Imports\n",
    "%matplotlib inline\n",
    "import pandas as pd\n",
    "import numpy as np\n",
    "import tensorflow as tf\n",
    "import seaborn as sns\n",
    "from matplotlib import pyplot as plt\n",
    "from sklearn.model_selection import train_test_split\n",
    "print(\"Successfully imported modules\")"
   ]
  },
  {
   "cell_type": "markdown",
   "metadata": {},
   "source": [
    "## 1. Preparing the data\n",
    "\n",
    "In this section we will be preparing the data before training the model.\n",
    "\n",
    "Read files and separate information from training into labels and data. Then normalise data and reshape into the shape of the original image."
   ]
  },
  {
   "cell_type": "code",
   "execution_count": 20,
   "metadata": {
    "collapsed": false
   },
   "outputs": [
    {
     "name": "stdout",
     "output_type": "stream",
     "text": [
      "Reading files\n",
      "\tReading training...\n",
      "\tReading testing...\n",
      "Finished\n",
      "Split: 0.3 (29400 training, 12600 testing)\n"
     ]
    },
    {
     "data": {
      "image/png": "[encoded data removed]",
      "text/plain": [
       "<matplotlib.figure.Figure at 0x1a47af0b8>"
      ]
     },
     "metadata": {},
     "output_type": "display_data"
    }
   ],
   "source": [
    "# Read data\n",
    "print(\"Reading files\\n\\tReading training...\")\n",
    "training = pd.read_csv(\"train.csv\")\n",
    "train_y = training[\"label\"]\n",
    "train_x = training.drop(\"label\", axis = 1)\n",
    "\n",
    "print(\"\\tReading testing...\")\n",
    "test_values = pd.read_csv(\"test.csv\")\n",
    "print(\"Finished\")\n",
    "\n",
    "# Split data into training / testing\n",
    "split = 0.3\n",
    "train_x, test_x, train_y, test_y = train_test_split(train_x, train_y, test_size = split, random_state=2)\n",
    "print(\"Split: %s (%s training, %s testing)\" % (split, len(train_x), len(test_x)))\n",
    "\n",
    "# Plot number of features\n",
    "cp = sns.countplot(train_y)\n",
    "cp.set_title(\"Distribution of digit images in training data\")\n",
    "plt.show(cp)"
   ]
  },
  {
   "cell_type": "code",
   "execution_count": 3,
   "metadata": {
    "collapsed": false
   },
   "outputs": [
    {
     "name": "stdout",
     "output_type": "stream",
     "text": [
      "Normalising\n"
     ]
    }
   ],
   "source": [
    "# Normalise data (range 0-1)\n",
    "print(\"Normalising\")\n",
    "train_x = train_x / 255.0\n",
    "\n",
    "# Reshape. Doesn't work yet\n",
    "#train_x = np.array(train_x).reshape(-1, 28, 28, 1)\n",
    "#plt.imshow(train_x[0][:,:,0], cmap='Greys', interpolation='nearest')\n",
    "#plt.title('Representation of a datapoint as an image')\n",
    "#plt.show()"
   ]
  },
  {
   "cell_type": "markdown",
   "metadata": {
    "collapsed": false
   },
   "source": [
    "###### 2. Creation and training of classifier"
   ]
  },
  {
   "cell_type": "code",
   "execution_count": 4,
   "metadata": {
    "collapsed": false
   },
   "outputs": [
    {
     "name": "stdout",
     "output_type": "stream",
     "text": [
      "INFO:tensorflow:Using default config.\n",
      "WARNING:tensorflow:Using temporary folder as model directory: /var/folders/9x/0llvldjs3qdbgxvbn2z6lg2m0000gn/T/tmpsg6aew4u\n",
      "INFO:tensorflow:Using config: {'_num_worker_replicas': 1, '_master': '', '_keep_checkpoint_every_n_hours': 10000, '_cluster_spec': <tensorflow.python.training.server_lib.ClusterSpec object at 0x11fc9ad30>, '_save_checkpoints_steps': None, '_tf_random_seed': None, '_save_checkpoints_secs': 600, '_num_ps_replicas': 0, '_service': None, '_save_summary_steps': 100, '_log_step_count_steps': 100, '_is_chief': True, '_model_dir': '/var/folders/9x/0llvldjs3qdbgxvbn2z6lg2m0000gn/T/tmpsg6aew4u', '_task_type': 'worker', '_task_id': 0, '_session_config': None, '_keep_checkpoint_max': 5}\n",
      "Training classifier...\n",
      "       pixel0  pixel1  pixel2  pixel3  pixel4  pixel5  pixel6  pixel7  pixel8  \\\n",
      "3700      0.0     0.0     0.0     0.0     0.0     0.0     0.0     0.0     0.0   \n",
      "21134     0.0     0.0     0.0     0.0     0.0     0.0     0.0     0.0     0.0   \n",
      "6397      0.0     0.0     0.0     0.0     0.0     0.0     0.0     0.0     0.0   \n",
      "41203     0.0     0.0     0.0     0.0     0.0     0.0     0.0     0.0     0.0   \n",
      "5395      0.0     0.0     0.0     0.0     0.0     0.0     0.0     0.0     0.0   \n",
      "29725     0.0     0.0     0.0     0.0     0.0     0.0     0.0     0.0     0.0   \n",
      "40736     0.0     0.0     0.0     0.0     0.0     0.0     0.0     0.0     0.0   \n",
      "3803      0.0     0.0     0.0     0.0     0.0     0.0     0.0     0.0     0.0   \n",
      "25192     0.0     0.0     0.0     0.0     0.0     0.0     0.0     0.0     0.0   \n",
      "41637     0.0     0.0     0.0     0.0     0.0     0.0     0.0     0.0     0.0   \n",
      "23401     0.0     0.0     0.0     0.0     0.0     0.0     0.0     0.0     0.0   \n",
      "3651      0.0     0.0     0.0     0.0     0.0     0.0     0.0     0.0     0.0   \n",
      "17365     0.0     0.0     0.0     0.0     0.0     0.0     0.0     0.0     0.0   \n",
      "24485     0.0     0.0     0.0     0.0     0.0     0.0     0.0     0.0     0.0   \n",
      "17644     0.0     0.0     0.0     0.0     0.0     0.0     0.0     0.0     0.0   \n",
      "28432     0.0     0.0     0.0     0.0     0.0     0.0     0.0     0.0     0.0   \n",
      "20771     0.0     0.0     0.0     0.0     0.0     0.0     0.0     0.0     0.0   \n",
      "10470     0.0     0.0     0.0     0.0     0.0     0.0     0.0     0.0     0.0   \n",
      "39055     0.0     0.0     0.0     0.0     0.0     0.0     0.0     0.0     0.0   \n",
      "1856      0.0     0.0     0.0     0.0     0.0     0.0     0.0     0.0     0.0   \n",
      "36953     0.0     0.0     0.0     0.0     0.0     0.0     0.0     0.0     0.0   \n",
      "16655     0.0     0.0     0.0     0.0     0.0     0.0     0.0     0.0     0.0   \n",
      "15528     0.0     0.0     0.0     0.0     0.0     0.0     0.0     0.0     0.0   \n",
      "2013      0.0     0.0     0.0     0.0     0.0     0.0     0.0     0.0     0.0   \n",
      "18527     0.0     0.0     0.0     0.0     0.0     0.0     0.0     0.0     0.0   \n",
      "37304     0.0     0.0     0.0     0.0     0.0     0.0     0.0     0.0     0.0   \n",
      "28477     0.0     0.0     0.0     0.0     0.0     0.0     0.0     0.0     0.0   \n",
      "41015     0.0     0.0     0.0     0.0     0.0     0.0     0.0     0.0     0.0   \n",
      "15334     0.0     0.0     0.0     0.0     0.0     0.0     0.0     0.0     0.0   \n",
      "17675     0.0     0.0     0.0     0.0     0.0     0.0     0.0     0.0     0.0   \n",
      "...       ...     ...     ...     ...     ...     ...     ...     ...     ...   \n",
      "12420     0.0     0.0     0.0     0.0     0.0     0.0     0.0     0.0     0.0   \n",
      "19694     0.0     0.0     0.0     0.0     0.0     0.0     0.0     0.0     0.0   \n",
      "36432     0.0     0.0     0.0     0.0     0.0     0.0     0.0     0.0     0.0   \n",
      "16415     0.0     0.0     0.0     0.0     0.0     0.0     0.0     0.0     0.0   \n",
      "27859     0.0     0.0     0.0     0.0     0.0     0.0     0.0     0.0     0.0   \n",
      "40390     0.0     0.0     0.0     0.0     0.0     0.0     0.0     0.0     0.0   \n",
      "25902     0.0     0.0     0.0     0.0     0.0     0.0     0.0     0.0     0.0   \n",
      "16639     0.0     0.0     0.0     0.0     0.0     0.0     0.0     0.0     0.0   \n",
      "21372     0.0     0.0     0.0     0.0     0.0     0.0     0.0     0.0     0.0   \n",
      "20026     0.0     0.0     0.0     0.0     0.0     0.0     0.0     0.0     0.0   \n",
      "15905     0.0     0.0     0.0     0.0     0.0     0.0     0.0     0.0     0.0   \n",
      "8170      0.0     0.0     0.0     0.0     0.0     0.0     0.0     0.0     0.0   \n",
      "29547     0.0     0.0     0.0     0.0     0.0     0.0     0.0     0.0     0.0   \n",
      "21418     0.0     0.0     0.0     0.0     0.0     0.0     0.0     0.0     0.0   \n",
      "20084     0.0     0.0     0.0     0.0     0.0     0.0     0.0     0.0     0.0   \n",
      "41084     0.0     0.0     0.0     0.0     0.0     0.0     0.0     0.0     0.0   \n",
      "6548      0.0     0.0     0.0     0.0     0.0     0.0     0.0     0.0     0.0   \n",
      "32031     0.0     0.0     0.0     0.0     0.0     0.0     0.0     0.0     0.0   \n",
      "11071     0.0     0.0     0.0     0.0     0.0     0.0     0.0     0.0     0.0   \n",
      "5167      0.0     0.0     0.0     0.0     0.0     0.0     0.0     0.0     0.0   \n",
      "35541     0.0     0.0     0.0     0.0     0.0     0.0     0.0     0.0     0.0   \n",
      "33201     0.0     0.0     0.0     0.0     0.0     0.0     0.0     0.0     0.0   \n",
      "14696     0.0     0.0     0.0     0.0     0.0     0.0     0.0     0.0     0.0   \n",
      "33867     0.0     0.0     0.0     0.0     0.0     0.0     0.0     0.0     0.0   \n",
      "18898     0.0     0.0     0.0     0.0     0.0     0.0     0.0     0.0     0.0   \n",
      "31019     0.0     0.0     0.0     0.0     0.0     0.0     0.0     0.0     0.0   \n",
      "30280     0.0     0.0     0.0     0.0     0.0     0.0     0.0     0.0     0.0   \n",
      "6637      0.0     0.0     0.0     0.0     0.0     0.0     0.0     0.0     0.0   \n",
      "35343     0.0     0.0     0.0     0.0     0.0     0.0     0.0     0.0     0.0   \n",
      "23720     0.0     0.0     0.0     0.0     0.0     0.0     0.0     0.0     0.0   \n",
      "\n",
      "       pixel9    ...     pixel774  pixel775  pixel776  pixel777  pixel778  \\\n",
      "3700      0.0    ...          0.0       0.0       0.0       0.0       0.0   \n",
      "21134     0.0    ...          0.0       0.0       0.0       0.0       0.0   \n",
      "6397      0.0    ...          0.0       0.0       0.0       0.0       0.0   \n",
      "41203     0.0    ...          0.0       0.0       0.0       0.0       0.0   \n",
      "5395      0.0    ...          0.0       0.0       0.0       0.0       0.0   \n",
      "29725     0.0    ...          0.0       0.0       0.0       0.0       0.0   \n",
      "40736     0.0    ...          0.0       0.0       0.0       0.0       0.0   \n",
      "3803      0.0    ...          0.0       0.0       0.0       0.0       0.0   \n",
      "25192     0.0    ...          0.0       0.0       0.0       0.0       0.0   \n",
      "41637     0.0    ...          0.0       0.0       0.0       0.0       0.0   \n",
      "23401     0.0    ...          0.0       0.0       0.0       0.0       0.0   \n",
      "3651      0.0    ...          0.0       0.0       0.0       0.0       0.0   \n",
      "17365     0.0    ...          0.0       0.0       0.0       0.0       0.0   \n",
      "24485     0.0    ...          0.0       0.0       0.0       0.0       0.0   \n",
      "17644     0.0    ...          0.0       0.0       0.0       0.0       0.0   \n",
      "28432     0.0    ...          0.0       0.0       0.0       0.0       0.0   \n",
      "20771     0.0    ...          0.0       0.0       0.0       0.0       0.0   \n",
      "10470     0.0    ...          0.0       0.0       0.0       0.0       0.0   \n",
      "39055     0.0    ...          0.0       0.0       0.0       0.0       0.0   \n",
      "1856      0.0    ...          0.0       0.0       0.0       0.0       0.0   \n",
      "36953     0.0    ...          0.0       0.0       0.0       0.0       0.0   \n",
      "16655     0.0    ...          0.0       0.0       0.0       0.0       0.0   \n",
      "15528     0.0    ...          0.0       0.0       0.0       0.0       0.0   \n",
      "2013      0.0    ...          0.0       0.0       0.0       0.0       0.0   \n",
      "18527     0.0    ...          0.0       0.0       0.0       0.0       0.0   \n",
      "37304     0.0    ...          0.0       0.0       0.0       0.0       0.0   \n",
      "28477     0.0    ...          0.0       0.0       0.0       0.0       0.0   \n",
      "41015     0.0    ...          0.0       0.0       0.0       0.0       0.0   \n",
      "15334     0.0    ...          0.0       0.0       0.0       0.0       0.0   \n",
      "17675     0.0    ...          0.0       0.0       0.0       0.0       0.0   \n",
      "...       ...    ...          ...       ...       ...       ...       ...   \n",
      "12420     0.0    ...          0.0       0.0       0.0       0.0       0.0   \n",
      "19694     0.0    ...          0.0       0.0       0.0       0.0       0.0   \n",
      "36432     0.0    ...          0.0       0.0       0.0       0.0       0.0   \n",
      "16415     0.0    ...          0.0       0.0       0.0       0.0       0.0   \n",
      "27859     0.0    ...          0.0       0.0       0.0       0.0       0.0   \n",
      "40390     0.0    ...          0.0       0.0       0.0       0.0       0.0   \n",
      "25902     0.0    ...          0.0       0.0       0.0       0.0       0.0   \n",
      "16639     0.0    ...          0.0       0.0       0.0       0.0       0.0   \n",
      "21372     0.0    ...          0.0       0.0       0.0       0.0       0.0   \n",
      "20026     0.0    ...          0.0       0.0       0.0       0.0       0.0   \n",
      "15905     0.0    ...          0.0       0.0       0.0       0.0       0.0   \n",
      "8170      0.0    ...          0.0       0.0       0.0       0.0       0.0   \n",
      "29547     0.0    ...          0.0       0.0       0.0       0.0       0.0   \n",
      "21418     0.0    ...          0.0       0.0       0.0       0.0       0.0   \n",
      "20084     0.0    ...          0.0       0.0       0.0       0.0       0.0   \n",
      "41084     0.0    ...          0.0       0.0       0.0       0.0       0.0   \n",
      "6548      0.0    ...          0.0       0.0       0.0       0.0       0.0   \n",
      "32031     0.0    ...          0.0       0.0       0.0       0.0       0.0   \n",
      "11071     0.0    ...          0.0       0.0       0.0       0.0       0.0   \n",
      "5167      0.0    ...          0.0       0.0       0.0       0.0       0.0   \n",
      "35541     0.0    ...          0.0       0.0       0.0       0.0       0.0   \n",
      "33201     0.0    ...          0.0       0.0       0.0       0.0       0.0   \n",
      "14696     0.0    ...          0.0       0.0       0.0       0.0       0.0   \n",
      "33867     0.0    ...          0.0       0.0       0.0       0.0       0.0   \n",
      "18898     0.0    ...          0.0       0.0       0.0       0.0       0.0   \n",
      "31019     0.0    ...          0.0       0.0       0.0       0.0       0.0   \n",
      "30280     0.0    ...          0.0       0.0       0.0       0.0       0.0   \n",
      "6637      0.0    ...          0.0       0.0       0.0       0.0       0.0   \n",
      "35343     0.0    ...          0.0       0.0       0.0       0.0       0.0   \n",
      "23720     0.0    ...          0.0       0.0       0.0       0.0       0.0   \n",
      "\n",
      "       pixel779  pixel780  pixel781  pixel782  pixel783  \n",
      "3700        0.0       0.0       0.0       0.0       0.0  \n",
      "21134       0.0       0.0       0.0       0.0       0.0  \n",
      "6397        0.0       0.0       0.0       0.0       0.0  \n",
      "41203       0.0       0.0       0.0       0.0       0.0  \n",
      "5395        0.0       0.0       0.0       0.0       0.0  \n",
      "29725       0.0       0.0       0.0       0.0       0.0  \n",
      "40736       0.0       0.0       0.0       0.0       0.0  \n",
      "3803        0.0       0.0       0.0       0.0       0.0  \n",
      "25192       0.0       0.0       0.0       0.0       0.0  \n",
      "41637       0.0       0.0       0.0       0.0       0.0  \n",
      "23401       0.0       0.0       0.0       0.0       0.0  \n",
      "3651        0.0       0.0       0.0       0.0       0.0  \n",
      "17365       0.0       0.0       0.0       0.0       0.0  \n",
      "24485       0.0       0.0       0.0       0.0       0.0  \n",
      "17644       0.0       0.0       0.0       0.0       0.0  \n",
      "28432       0.0       0.0       0.0       0.0       0.0  \n",
      "20771       0.0       0.0       0.0       0.0       0.0  \n",
      "10470       0.0       0.0       0.0       0.0       0.0  \n",
      "39055       0.0       0.0       0.0       0.0       0.0  \n",
      "1856        0.0       0.0       0.0       0.0       0.0  \n",
      "36953       0.0       0.0       0.0       0.0       0.0  \n",
      "16655       0.0       0.0       0.0       0.0       0.0  \n",
      "15528       0.0       0.0       0.0       0.0       0.0  \n",
      "2013        0.0       0.0       0.0       0.0       0.0  \n",
      "18527       0.0       0.0       0.0       0.0       0.0  \n",
      "37304       0.0       0.0       0.0       0.0       0.0  \n",
      "28477       0.0       0.0       0.0       0.0       0.0  \n",
      "41015       0.0       0.0       0.0       0.0       0.0  \n",
      "15334       0.0       0.0       0.0       0.0       0.0  \n",
      "17675       0.0       0.0       0.0       0.0       0.0  \n",
      "...         ...       ...       ...       ...       ...  \n",
      "12420       0.0       0.0       0.0       0.0       0.0  \n",
      "19694       0.0       0.0       0.0       0.0       0.0  \n",
      "36432       0.0       0.0       0.0       0.0       0.0  \n",
      "16415       0.0       0.0       0.0       0.0       0.0  \n",
      "27859       0.0       0.0       0.0       0.0       0.0  \n",
      "40390       0.0       0.0       0.0       0.0       0.0  \n",
      "25902       0.0       0.0       0.0       0.0       0.0  \n",
      "16639       0.0       0.0       0.0       0.0       0.0  \n",
      "21372       0.0       0.0       0.0       0.0       0.0  \n",
      "20026       0.0       0.0       0.0       0.0       0.0  \n",
      "15905       0.0       0.0       0.0       0.0       0.0  \n",
      "8170        0.0       0.0       0.0       0.0       0.0  \n",
      "29547       0.0       0.0       0.0       0.0       0.0  \n",
      "21418       0.0       0.0       0.0       0.0       0.0  \n",
      "20084       0.0       0.0       0.0       0.0       0.0  \n",
      "41084       0.0       0.0       0.0       0.0       0.0  \n",
      "6548        0.0       0.0       0.0       0.0       0.0  \n",
      "32031       0.0       0.0       0.0       0.0       0.0  \n",
      "11071       0.0       0.0       0.0       0.0       0.0  \n",
      "5167        0.0       0.0       0.0       0.0       0.0  \n",
      "35541       0.0       0.0       0.0       0.0       0.0  \n",
      "33201       0.0       0.0       0.0       0.0       0.0  \n",
      "14696       0.0       0.0       0.0       0.0       0.0  \n",
      "33867       0.0       0.0       0.0       0.0       0.0  \n",
      "18898       0.0       0.0       0.0       0.0       0.0  \n",
      "31019       0.0       0.0       0.0       0.0       0.0  \n",
      "30280       0.0       0.0       0.0       0.0       0.0  \n",
      "6637        0.0       0.0       0.0       0.0       0.0  \n",
      "35343       0.0       0.0       0.0       0.0       0.0  \n",
      "23720       0.0       0.0       0.0       0.0       0.0  \n",
      "\n",
      "[29400 rows x 784 columns]\n",
      "29400\n",
      "INFO:tensorflow:Create CheckpointSaverHook.\n",
      "INFO:tensorflow:Saving checkpoints for 1 into /var/folders/9x/0llvldjs3qdbgxvbn2z6lg2m0000gn/T/tmpsg6aew4u/model.ckpt.\n",
      "INFO:tensorflow:loss = 229.65408, step = 1\n",
      "INFO:tensorflow:global_step/sec: 7.04703\n",
      "INFO:tensorflow:loss = 65.146706, step = 101 (14.187 sec)\n",
      "INFO:tensorflow:global_step/sec: 10.2943\n",
      "INFO:tensorflow:loss = 69.93177, step = 201 (9.716 sec)\n",
      "INFO:tensorflow:global_step/sec: 10.6393\n",
      "INFO:tensorflow:loss = 74.555, step = 301 (9.397 sec)\n",
      "INFO:tensorflow:global_step/sec: 10.1615\n",
      "INFO:tensorflow:loss = 66.662964, step = 401 (9.842 sec)\n",
      "INFO:tensorflow:global_step/sec: 9.784\n",
      "INFO:tensorflow:loss = 57.265484, step = 501 (10.220 sec)\n",
      "INFO:tensorflow:global_step/sec: 10.2253\n",
      "INFO:tensorflow:loss = 56.073883, step = 601 (9.779 sec)\n",
      "INFO:tensorflow:global_step/sec: 10.2343\n",
      "INFO:tensorflow:loss = 44.038822, step = 701 (9.771 sec)\n",
      "INFO:tensorflow:global_step/sec: 11.0788\n",
      "INFO:tensorflow:loss = 56.50728, step = 801 (9.027 sec)\n",
      "INFO:tensorflow:global_step/sec: 11.1455\n",
      "INFO:tensorflow:loss = 25.505695, step = 901 (8.972 sec)\n",
      "INFO:tensorflow:Saving checkpoints for 1000 into /var/folders/9x/0llvldjs3qdbgxvbn2z6lg2m0000gn/T/tmpsg6aew4u/model.ckpt.\n",
      "INFO:tensorflow:Loss for final step: 62.166557.\n",
      "Finished training\n"
     ]
    }
   ],
   "source": [
    "def train_classifier(inputs, outputs, batch_size):\n",
    "    dataset = tf.data.Dataset.from_tensor_slices((dict(inputs), outputs))\n",
    "    dataset = dataset.shuffle(1000).repeat().batch(batch_size)\n",
    "    return dataset.make_one_shot_iterator().get_next()\n",
    "\n",
    "columns_feat = []\n",
    "for x in range(0, 784):\n",
    "    columns_feat.append(tf.feature_column.numeric_column(key='pixel' + str(x)))\n",
    "    \n",
    "classifier = tf.estimator.DNNClassifier(\n",
    "    feature_columns = columns_feat,\n",
    "    # Two layers of 10 nodes\n",
    "    hidden_units=[10, 10],\n",
    "    # 10 classes: 0-9\n",
    "    n_classes=10)\n",
    "\n",
    "print(\"Training classifier...\")\n",
    "classifier.train(\n",
    "    input_fn = lambda:train_classifier(train_x, train_y, 100),\n",
    "    steps = 1000)\n",
    "print(\"Finished training\")"
   ]
  },
  {
   "cell_type": "markdown",
   "metadata": {
    "collapsed": true
   },
   "source": [
    "## 3. Evaluate classifier on testing data"
   ]
  },
  {
   "cell_type": "code",
   "execution_count": 5,
   "metadata": {
    "collapsed": false
   },
   "outputs": [
    {
     "name": "stdout",
     "output_type": "stream",
     "text": [
      "INFO:tensorflow:Starting evaluation at 2018-03-05-16:11:11\n",
      "INFO:tensorflow:Restoring parameters from /var/folders/9x/0llvldjs3qdbgxvbn2z6lg2m0000gn/T/tmpsg6aew4u/model.ckpt-1000\n",
      "INFO:tensorflow:Finished evaluation at 2018-03-05-16:11:36\n",
      "INFO:tensorflow:Saving dict for global step 1000: accuracy = 0.7323809, average_loss = 125.58145, global_step = 1000, loss = 12558.145\n"
     ]
    }
   ],
   "source": [
    "# Define evaluation function\n",
    "def evaluation_function(attributes, classes, batch_size):\n",
    "    attributes=dict(attributes)\n",
    "    if classes is None:\n",
    "        inputs = attributes\n",
    "    else:\n",
    "        inputs = (attributes, classes)\n",
    "    dataset = tf.data.Dataset.from_tensor_slices(inputs)\n",
    "    assert batch_size is not None, \"batch_size must not be None\"\n",
    "    dataset = dataset.batch(batch_size)\n",
    "    return dataset.make_one_shot_iterator().get_next()\n",
    "\n",
    "# Evaluate the model.\n",
    "eval_result = classifier.evaluate(\n",
    "    input_fn=lambda:evaluation_function(test_x, test_y, 100))"
   ]
  },
  {
   "cell_type": "code",
   "execution_count": 47,
   "metadata": {
    "collapsed": false
   },
   "outputs": [
    {
     "ename": "NameError",
     "evalue": "name 'correct_pred' is not defined",
     "output_type": "error",
     "traceback": [
      "\u001b[0;31m---------------------------------------------------------------------------\u001b[0m",
      "\u001b[0;31mNameError\u001b[0m                                 Traceback (most recent call last)",
      "\u001b[0;32m<ipython-input-47-262c26d6c099>\u001b[0m in \u001b[0;36m<module>\u001b[0;34m()\u001b[0m\n\u001b[1;32m      7\u001b[0m \u001b[0;34m\u001b[0m\u001b[0m\n\u001b[1;32m      8\u001b[0m \u001b[0mv\u001b[0m \u001b[0;34m=\u001b[0m \u001b[0mtf\u001b[0m\u001b[0;34m.\u001b[0m\u001b[0margmax\u001b[0m\u001b[0;34m(\u001b[0m\u001b[0mtest_values\u001b[0m\u001b[0;34m.\u001b[0m\u001b[0miloc\u001b[0m\u001b[0;34m[\u001b[0m\u001b[0;36m0\u001b[0m\u001b[0;34m]\u001b[0m\u001b[0;34m,\u001b[0m\u001b[0;36m1\u001b[0m\u001b[0;34m)\u001b[0m\u001b[0;34m\u001b[0m\u001b[0m\n\u001b[0;32m----> 9\u001b[0;31m \u001b[0mpredicted\u001b[0m \u001b[0;34m=\u001b[0m \u001b[0msess\u001b[0m\u001b[0;34m.\u001b[0m\u001b[0mrun\u001b[0m\u001b[0;34m(\u001b[0m\u001b[0;34m[\u001b[0m\u001b[0mcorrect_pred\u001b[0m\u001b[0;34m]\u001b[0m\u001b[0;34m,\u001b[0m \u001b[0mfeed_dict\u001b[0m\u001b[0;34m=\u001b[0m\u001b[0;34m{\u001b[0m\u001b[0mx\u001b[0m\u001b[0;34m:\u001b[0m \u001b[0msample_images\u001b[0m\u001b[0;34m}\u001b[0m\u001b[0;34m)\u001b[0m\u001b[0;34m[\u001b[0m\u001b[0;36m0\u001b[0m\u001b[0;34m]\u001b[0m\u001b[0;34m\u001b[0m\u001b[0m\n\u001b[0m\u001b[1;32m     10\u001b[0m \u001b[0;34m\u001b[0m\u001b[0m\n\u001b[1;32m     11\u001b[0m \u001b[0;31m# print to file\u001b[0m\u001b[0;34m\u001b[0m\u001b[0;34m\u001b[0m\u001b[0m\n",
      "\u001b[0;31mNameError\u001b[0m: name 'correct_pred' is not defined"
     ]
    }
   ],
   "source": [
    "# get classifications\n",
    "\n",
    "test_values = test_values / 255.0\n",
    "#sess = tf.Session()\n",
    "#prediction = sess.run(pred, feed_dict={x: test_values.iloc[0]})\n",
    "#print(prediction)\n",
    "\n",
    "v = tf.argmax(test_values.iloc[0],1)\n",
    "predicted = sess.run([v], feed_dict={x: sample_images})[0]\n",
    "\n",
    "# print to file\n",
    "number_of_tests = 11\n",
    "data = {\"ImageId\": [x for x in range(0, number_of_tests)],\n",
    "       \"Label\": [x for x in range(0, number_of_tests)]}\n",
    "df = pd.DataFrame(data, columns=[\"ImageId\", \"Label\"])\n",
    "df.to_csv(\"submission.csv\")\n",
    "print(\"File written\")"
   ]
  },
  {
   "cell_type": "code",
   "execution_count": null,
   "metadata": {
    "collapsed": true
   },
   "outputs": [],
   "source": []
  }
 ],
 "metadata": {
  "kernelspec": {
   "display_name": "Python 3",
   "language": "python",
   "name": "python3"
  },
  "language_info": {
   "codemirror_mode": {
    "name": "ipython",
    "version": 3
   },
   "file_extension": ".py",
   "mimetype": "text/x-python",
   "name": "python",
   "nbconvert_exporter": "python",
   "pygments_lexer": "ipython3",
   "version": "3.5.0"
  }
 },
 "nbformat": 4,
 "nbformat_minor": 1
}
