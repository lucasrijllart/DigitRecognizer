{
 "cells": [
  {
   "cell_type": "markdown",
   "metadata": {},
   "source": [
    "# Digit Recogniser\n",
    "\n",
    "The given task:\n",
    "\"In this competition, your goal is to correctly identify digits from a dataset of tens of thousands of handwritten images. We’ve curated a set of tutorial-style kernels which cover everything from regression to neural networks. We encourage you to experiment with different algorithms to learn first-hand what works well and how techniques compare.\"\n",
    "\n",
    "The data:\n",
    "\n",
    "    Training:\n",
    "    42,000 images of digits\n",
    "    Column 0: Number depicted by image\n",
    "    Column 1-784: Pixel intensity (0 black, 255 white)\n",
    "    \n",
    "    Example:\n",
    "|label | pixel 0 | pixel 1 | pixel 2 | ... | pixel 783|\n",
    "|------|---------|---------|---------|-----|----------|\n",
    "|3     | 0       | 16      | 94      | ... | 43       |\n",
    "    "
   ]
  },
  {
   "cell_type": "code",
   "execution_count": 136,
   "metadata": {
    "collapsed": false
   },
   "outputs": [
    {
     "name": "stdout",
     "output_type": "stream",
     "text": [
      "Successfully imported modules\n"
     ]
    }
   ],
   "source": [
    "# Imports\n",
    "%matplotlib inline\n",
    "import pandas as pd\n",
    "import numpy as np\n",
    "import tensorflow as tf\n",
    "import seaborn as sns\n",
    "from matplotlib import pyplot as plt\n",
    "from sklearn.model_selection import train_test_split\n",
    "print(\"Successfully imported modules\")"
   ]
  },
  {
   "cell_type": "markdown",
   "metadata": {},
   "source": [
    "## 1. Preparing the data\n",
    "\n",
    "In this section we will be preparing the data before training the model.\n",
    "\n",
    "Read files and separate information from training into labels and data. Then normalise data and reshape into the shape of the original image."
   ]
  },
  {
   "cell_type": "code",
   "execution_count": 151,
   "metadata": {
    "collapsed": false
   },
   "outputs": [
    {
     "name": "stdout",
     "output_type": "stream",
     "text": [
      "Reading files\n",
      "\tReading training...\n",
      "\tReading testing...\n",
      "Finished\n",
      "29400\n",
      "12600\n",
      "29400\n",
      "12600\n"
     ]
    },
    {
     "data": {
      "image/png": "[encoded data removed]",
      "text/plain": [
       "<matplotlib.figure.Figure at 0x2860998d0>"
      ]
     },
     "metadata": {},
     "output_type": "display_data"
    }
   ],
   "source": [
    "# Read data\n",
    "print(\"Reading files\\n\\tReading training...\")\n",
    "training = pd.read_csv(\"train.csv\")\n",
    "train_y = training[\"label\"]\n",
    "train_x = training.drop(\"label\", axis = 1)\n",
    "\n",
    "print(\"\\tReading testing...\")\n",
    "#test_x = pd.read_csv(\"test.csv\")\n",
    "print(\"Finished\")\n",
    "\n",
    "# Split data into training / testing\n",
    "train_x, test_x, train_y, test_y = train_test_split(train_x, train_y, test_size = 0.3, random_state=2)\n",
    "\n",
    "# Plot number of features\n",
    "cp = sns.countplot(train_y)\n",
    "cp.set_title(\"Distribution of digit images in training data\")\n",
    "plt.show(cp)"
   ]
  },
  {
   "cell_type": "code",
   "execution_count": 148,
   "metadata": {
    "collapsed": false
   },
   "outputs": [
    {
     "name": "stdout",
     "output_type": "stream",
     "text": [
      "Normalising\n"
     ]
    },
    {
     "data": {
      "image/png": "[encoded data removed]",
      "text/plain": [
       "<matplotlib.figure.Figure at 0x1aedfa6d8>"
      ]
     },
     "metadata": {},
     "output_type": "display_data"
    }
   ],
   "source": [
    "# Normalise data\n",
    "print(\"Normalising\")\n",
    "train_x = train_x / 255.0\n",
    "\n",
    "# Reshape\n",
    "train_x = np.array(train_x).reshape(-1, 28, 28, 1)\n",
    "plt.imshow(train_x[0][:,:,0], cmap='Greys', interpolation='nearest')\n",
    "plt.title('Representation of a datapoint as an image')\n",
    "plt.show()"
   ]
  },
  {
   "cell_type": "markdown",
   "metadata": {
    "collapsed": false
   },
   "source": [
    "###### 2. Creation and training of classifier"
   ]
  },
  {
   "cell_type": "code",
   "execution_count": 155,
   "metadata": {
    "collapsed": false,
    "scrolled": false
   },
   "outputs": [
    {
     "name": "stdout",
     "output_type": "stream",
     "text": [
      "INFO:tensorflow:Using default config.\n",
      "WARNING:tensorflow:Using temporary folder as model directory: /var/folders/9x/0llvldjs3qdbgxvbn2z6lg2m0000gn/T/tmptm7au5t4\n",
      "INFO:tensorflow:Using config: {'_session_config': None, '_save_checkpoints_secs': 600, '_keep_checkpoint_every_n_hours': 10000, '_save_summary_steps': 100, '_tf_random_seed': None, '_model_dir': '/var/folders/9x/0llvldjs3qdbgxvbn2z6lg2m0000gn/T/tmptm7au5t4', '_keep_checkpoint_max': 5, '_task_id': 0, '_num_ps_replicas': 0, '_task_type': 'worker', '_num_worker_replicas': 1, '_save_checkpoints_steps': None, '_log_step_count_steps': 100, '_is_chief': True, '_master': '', '_cluster_spec': <tensorflow.python.training.server_lib.ClusterSpec object at 0x286082550>, '_service': None}\n",
      "Training classifier...\n",
      "INFO:tensorflow:Create CheckpointSaverHook.\n",
      "INFO:tensorflow:Saving checkpoints for 1 into /var/folders/9x/0llvldjs3qdbgxvbn2z6lg2m0000gn/T/tmptm7au5t4/model.ckpt.\n",
      "INFO:tensorflow:step = 1, loss = 5135.5547\n",
      "INFO:tensorflow:global_step/sec: 7.85231\n",
      "INFO:tensorflow:step = 101, loss = 195.46994 (12.738 sec)\n",
      "INFO:tensorflow:global_step/sec: 11.8546\n",
      "INFO:tensorflow:step = 201, loss = 178.71118 (8.434 sec)\n",
      "INFO:tensorflow:global_step/sec: 11.7589\n",
      "INFO:tensorflow:step = 301, loss = 181.17584 (8.504 sec)\n",
      "INFO:tensorflow:global_step/sec: 12.003\n",
      "INFO:tensorflow:step = 401, loss = 172.31976 (8.331 sec)\n",
      "INFO:tensorflow:global_step/sec: 11.9445\n",
      "INFO:tensorflow:step = 501, loss = 150.08737 (8.373 sec)\n",
      "INFO:tensorflow:global_step/sec: 11.8913\n",
      "INFO:tensorflow:step = 601, loss = 185.7536 (8.410 sec)\n",
      "INFO:tensorflow:global_step/sec: 12.0715\n",
      "INFO:tensorflow:step = 701, loss = 147.67654 (8.284 sec)\n",
      "INFO:tensorflow:global_step/sec: 12.06\n",
      "INFO:tensorflow:step = 801, loss = 153.21611 (8.292 sec)\n",
      "INFO:tensorflow:global_step/sec: 11.8522\n",
      "INFO:tensorflow:step = 901, loss = 140.90482 (8.437 sec)\n",
      "INFO:tensorflow:Saving checkpoints for 1000 into /var/folders/9x/0llvldjs3qdbgxvbn2z6lg2m0000gn/T/tmptm7au5t4/model.ckpt.\n",
      "INFO:tensorflow:Loss for final step: 149.98839.\n",
      "Finished training\n"
     ]
    }
   ],
   "source": [
    "def train_classifier(inputs, outputs, batch_size):\n",
    "    dataset = tf.data.Dataset.from_tensor_slices((dict(inputs), outputs))\n",
    "    dataset = dataset.shuffle(1000).repeat().batch(batch_size)\n",
    "    return dataset.make_one_shot_iterator().get_next()\n",
    "\n",
    "columns_feat = []\n",
    "for x in range(0, 784):\n",
    "    columns_feat.append(tf.feature_column.numeric_column(key='pixel' + str(x)))\n",
    "    \n",
    "classifier = tf.estimator.DNNClassifier(\n",
    "    feature_columns = columns_feat,\n",
    "    # Two layers of 10 nodes\n",
    "    hidden_units=[10, 10],\n",
    "    # 10 classes: 0-9\n",
    "    n_classes=10)\n",
    "\n",
    "print(\"Training classifier...\")\n",
    "classifier.train(\n",
    "    input_fn = lambda:train_classifier(train_x, train_y, 100),\n",
    "    steps = 1000)\n",
    "print(\"Finished training\")"
   ]
  },
  {
   "cell_type": "markdown",
   "metadata": {
    "collapsed": true
   },
   "source": [
    "## 3. Evaluate classifier on testing data"
   ]
  },
  {
   "cell_type": "code",
   "execution_count": null,
   "metadata": {
    "collapsed": false
   },
   "outputs": [
    {
     "name": "stdout",
     "output_type": "stream",
     "text": [
      "INFO:tensorflow:Starting evaluation at 2018-03-02-15:38:24\n",
      "INFO:tensorflow:Restoring parameters from /var/folders/9x/0llvldjs3qdbgxvbn2z6lg2m0000gn/T/tmptm7au5t4/model.ckpt-1000\n",
      "INFO:tensorflow:Finished evaluation at 2018-03-02-15:38:45\n",
      "INFO:tensorflow:Saving dict for global step 1000: accuracy = 0.49071428, average_loss = 1.3845457, global_step = 1000, loss = 138.45456\n"
     ]
    }
   ],
   "source": [
    "# Define evaluation function\n",
    "def evaluation_function(attributes, classes, batch_size):\n",
    "    attributes=dict(attributes)\n",
    "    if classes is None:\n",
    "        inputs = attributes\n",
    "    else:\n",
    "        inputs = (attributes, classes)\n",
    "    dataset = tf.data.Dataset.from_tensor_slices(inputs)\n",
    "    assert batch_size is not None, \"batch_size must not be None\"\n",
    "    dataset = dataset.batch(batch_size)\n",
    "    return dataset.make_one_shot_iterator().get_next()\n",
    "\n",
    "# Evaluate the model.\n",
    "eval_result = classifier.evaluate(\n",
    "    input_fn=lambda:evaluation_function(test_x, test_y, 100))"
   ]
  },
  {
   "cell_type": "code",
   "execution_count": null,
   "metadata": {
    "collapsed": true
   },
   "outputs": [],
   "source": []
  }
 ],
 "metadata": {
  "kernelspec": {
   "display_name": "Python 3",
   "language": "python",
   "name": "python3"
  },
  "language_info": {
   "codemirror_mode": {
    "name": "ipython",
    "version": 3
   },
   "file_extension": ".py",
   "mimetype": "text/x-python",
   "name": "python",
   "nbconvert_exporter": "python",
   "pygments_lexer": "ipython3",
   "version": "3.5.0"
  }
 },
 "nbformat": 4,
 "nbformat_minor": 1
}
