{
 "cells": [
  {
   "cell_type": "markdown",
   "metadata": {},
   "source": [
    "# Digit Recogniser\n",
    "\n",
    "The given task:\n",
    "\"In this competition, your goal is to correctly identify digits from a dataset of tens of thousands of handwritten images. We’ve curated a set of tutorial-style kernels which cover everything from regression to neural networks. We encourage you to experiment with different algorithms to learn first-hand what works well and how techniques compare.\"\n",
    "\n",
    "The data:\n",
    "\n",
    "    Training:\n",
    "    42,000 images of digits\n",
    "    Column 0: Number depicted by image\n",
    "    Column 1-784: Pixel intensity (0 black, 255 white)\n",
    "    \n",
    "    Example:\n",
    "|label | pixel 0 | pixel 1 | pixel 2 | ... | pixel 783|\n",
    "|------|---------|---------|---------|-----|----------|\n",
    "|3     | 0       | 16      | 94      | ... | 43       |\n",
    "    "
   ]
  },
  {
   "cell_type": "code",
   "execution_count": 31,
   "metadata": {
    "collapsed": false
   },
   "outputs": [
    {
     "name": "stdout",
     "output_type": "stream",
     "text": [
      "Successfully imported modules\n"
     ]
    }
   ],
   "source": [
    "# Imports\n",
    "%matplotlib inline\n",
    "import pandas as pd\n",
    "import numpy as np\n",
    "import tensorflow as tf\n",
    "from keras.models import Sequential\n",
    "from keras.layers import Dense\n",
    "import seaborn as sns\n",
    "from matplotlib import pyplot as plt\n",
    "from sklearn.model_selection import train_test_split\n",
    "import time\n",
    "print(\"Successfully imported modules\")"
   ]
  },
  {
   "cell_type": "markdown",
   "metadata": {},
   "source": [
    "## 1. Preparing the data\n",
    "\n",
    "In this section we will be preparing the data before training the model.\n",
    "\n",
    "Read files and separate information from training into labels and data. Then normalise data and reshape into the shape of the original image."
   ]
  },
  {
   "cell_type": "code",
   "execution_count": 38,
   "metadata": {
    "collapsed": false
   },
   "outputs": [
    {
     "name": "stdout",
     "output_type": "stream",
     "text": [
      "Reading files\n",
      "\tReading training...\n",
      "\tReading testing...\n",
      "Finished\n",
      "Split: 0.3 (29400 training, 12600 testing)\n"
     ]
    },
    {
     "data": {
      "image/png": "[encoded data removed]",
      "text/plain": [
       "<matplotlib.figure.Figure at 0x1225d97b8>"
      ]
     },
     "metadata": {},
     "output_type": "display_data"
    }
   ],
   "source": [
    "# Read data\n",
    "print(\"Reading files\\n\\tReading training...\")\n",
    "training = pd.read_csv(\"train.csv\")\n",
    "train_y = training[\"label\"]\n",
    "train_x = training.drop(\"label\", axis = 1)\n",
    "\n",
    "print(\"\\tReading testing...\")\n",
    "test_values = pd.read_csv(\"test.csv\")\n",
    "print(\"Finished\")\n",
    "\n",
    "# Split data into training / testing\n",
    "split = 0.3\n",
    "train_x, test_x, train_y, test_y = train_test_split(train_x, train_y, test_size = split, random_state=2)\n",
    "print(\"Split: %s (%s training, %s testing)\" % (split, len(train_x), len(test_x)))\n",
    "\n",
    "# Plot number of features\n",
    "cp = sns.countplot(train_y)\n",
    "cp.set_title(\"Distribution of digit images in training data\")\n",
    "plt.show(cp)"
   ]
  },
  {
   "cell_type": "code",
   "execution_count": 39,
   "metadata": {
    "collapsed": false
   },
   "outputs": [
    {
     "name": "stdout",
     "output_type": "stream",
     "text": [
      "Normalised data\n"
     ]
    }
   ],
   "source": [
    "# Normalise data (range 0-1)\n",
    "train_x = train_x / 255.0\n",
    "test_x = test_x / 255.0\n",
    "test_values = test_values / 255.0\n",
    "\n",
    "train_x = np.array(train_x)\n",
    "test_x = np.array(test_x)\n",
    "test_values = np.array(test_values)\n",
    "\n",
    "print('Normalised data')\n",
    "\n",
    "# Reshape. Doesn't work yet\n",
    "#train_x = np.array(train_x).reshape(-1, 28, 28, 1)\n",
    "#plt.imshow(train_x[0][:,:,0], cmap='Greys', interpolation='nearest')\n",
    "#plt.title('Representation of a datapoint as an image')\n",
    "#plt.show()"
   ]
  },
  {
   "cell_type": "markdown",
   "metadata": {
    "collapsed": false
   },
   "source": [
    "## 2. Creation and training of classifier"
   ]
  },
  {
   "cell_type": "code",
   "execution_count": 40,
   "metadata": {
    "collapsed": false
   },
   "outputs": [
    {
     "name": "stdout",
     "output_type": "stream",
     "text": [
      "Epoch 1/5\n",
      "29400/29400 [==============================] - 3s 113us/step - loss: 0.3744 - acc: 0.8960\n",
      "Epoch 2/5\n",
      "29400/29400 [==============================] - 3s 104us/step - loss: 0.1900 - acc: 0.9442\n",
      "Epoch 3/5\n",
      "29400/29400 [==============================] - 3s 105us/step - loss: 0.1420 - acc: 0.9586\n",
      "Epoch 4/5\n",
      "29400/29400 [==============================] - 3s 101us/step - loss: 0.1138 - acc: 0.9661\n",
      "Epoch 5/5\n",
      "29400/29400 [==============================] - 3s 101us/step - loss: 0.0957 - acc: 0.9719\n",
      "Finished training in 15s\n"
     ]
    }
   ],
   "source": [
    "# Train model\n",
    "model = Sequential()\n",
    "model.add(Dense(units=64, activation='relu', input_dim=784))\n",
    "model.add(Dense(units=10, activation='softmax'))\n",
    "\n",
    "model.compile(loss='sparse_categorical_crossentropy',\n",
    "              optimizer='rmsprop',\n",
    "              metrics=['accuracy'])\n",
    "\n",
    "start_time = time.time()\n",
    "model.fit(train_x, train_y, epochs=5, batch_size=32)\n",
    "print('Finished training in %ds' % (time.time()-start_time))"
   ]
  },
  {
   "cell_type": "markdown",
   "metadata": {
    "collapsed": true
   },
   "source": [
    "## 3. Evaluate classifier on testing data"
   ]
  },
  {
   "cell_type": "code",
   "execution_count": 41,
   "metadata": {
    "collapsed": false
   },
   "outputs": [
    {
     "name": "stdout",
     "output_type": "stream",
     "text": [
      "Test loss: 0.1448828446533945\n",
      "Test accuracy: 0.9579365080500406\n",
      "[2 0 9 ... 3 9 2]\n"
     ]
    },
    {
     "data": {
      "image/png": "[encoded data removed]",
      "text/plain": [
       "<matplotlib.figure.Figure at 0x1216d1d30>"
      ]
     },
     "metadata": {},
     "output_type": "display_data"
    }
   ],
   "source": [
    "score = model.evaluate(test_x, test_y, batch_size=128, verbose=0)\n",
    "print('Test loss:', score[0])\n",
    "print('Test accuracy:', score[1])\n",
    "\n",
    "# get classifications\n",
    "predicted_classes = model.predict_classes(test_values)\n",
    "print(predicted_classes)\n",
    "\n",
    "img = test_values[0]\n",
    "img = np.array(img).reshape(-1, 28, 28, 1)\n",
    "plt.imshow(img[0][:,:,0], cmap='Greys', interpolation='nearest')\n",
    "plt.title('Representation of a datapoint as an image')\n",
    "plt.show()"
   ]
  },
  {
   "cell_type": "markdown",
   "metadata": {},
   "source": [
    "## 4. Write prediction results to file\n",
    "Here we create the formatted list of results and save it to a .csv file named 'submission.csv'"
   ]
  },
  {
   "cell_type": "code",
   "execution_count": 42,
   "metadata": {
    "collapsed": false
   },
   "outputs": [
    {
     "name": "stdout",
     "output_type": "stream",
     "text": [
      "[[1, 2], [2, 0], [3, 9], [4, 4], [5, 3], [6, 7], [7, 0], [8, 3], [9, 0], [10, 3]]\n",
      "File written\n"
     ]
    }
   ],
   "source": [
    "text_output = []\n",
    "for i in range(0, len(predicted_classes)):\n",
    "    text_output.append([int(i+1), int(predicted_classes[i])])\n",
    "text_output = [[int(number) for number in row] for row in text_output]\n",
    "print(text_output[:10])\n",
    "df = pd.DataFrame(data=text_output)\n",
    "try:\n",
    "    df.to_csv('submission.csv', sep=',', header=['ImageId', 'Label'], index=False)\n",
    "    print('File written')\n",
    "except:\n",
    "    print('Error writing file')\n"
   ]
  },
  {
   "cell_type": "code",
   "execution_count": null,
   "metadata": {
    "collapsed": true
   },
   "outputs": [],
   "source": []
  }
 ],
 "metadata": {
  "kernelspec": {
   "display_name": "Python 3",
   "language": "python",
   "name": "python3"
  },
  "language_info": {
   "codemirror_mode": {
    "name": "ipython",
    "version": 3
   },
   "file_extension": ".py",
   "mimetype": "text/x-python",
   "name": "python",
   "nbconvert_exporter": "python",
   "pygments_lexer": "ipython3",
   "version": "3.5.0"
  }
 },
 "nbformat": 4,
 "nbformat_minor": 1
}
